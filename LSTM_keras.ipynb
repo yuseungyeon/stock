{
 "cells": [
  {
   "cell_type": "code",
   "execution_count": 1,
   "metadata": {
    "scrolled": true
   },
   "outputs": [
    {
     "name": "stderr",
     "output_type": "stream",
     "text": [
      "C:\\ProgramData\\Anaconda3\\lib\\site-packages\\h5py\\__init__.py:36: FutureWarning: Conversion of the second argument of issubdtype from `float` to `np.floating` is deprecated. In future, it will be treated as `np.float64 == np.dtype(float).type`.\n",
      "  from ._conv import register_converters as _register_converters\n",
      "Using TensorFlow backend.\n",
      "C:\\ProgramData\\Anaconda3\\lib\\site-packages\\tensorflow\\python\\framework\\dtypes.py:516: FutureWarning: Passing (type, 1) or '1type' as a synonym of type is deprecated; in a future version of numpy, it will be understood as (type, (1,)) / '(1,)type'.\n",
      "  _np_qint8 = np.dtype([(\"qint8\", np.int8, 1)])\n",
      "C:\\ProgramData\\Anaconda3\\lib\\site-packages\\tensorflow\\python\\framework\\dtypes.py:517: FutureWarning: Passing (type, 1) or '1type' as a synonym of type is deprecated; in a future version of numpy, it will be understood as (type, (1,)) / '(1,)type'.\n",
      "  _np_quint8 = np.dtype([(\"quint8\", np.uint8, 1)])\n",
      "C:\\ProgramData\\Anaconda3\\lib\\site-packages\\tensorflow\\python\\framework\\dtypes.py:518: FutureWarning: Passing (type, 1) or '1type' as a synonym of type is deprecated; in a future version of numpy, it will be understood as (type, (1,)) / '(1,)type'.\n",
      "  _np_qint16 = np.dtype([(\"qint16\", np.int16, 1)])\n",
      "C:\\ProgramData\\Anaconda3\\lib\\site-packages\\tensorflow\\python\\framework\\dtypes.py:519: FutureWarning: Passing (type, 1) or '1type' as a synonym of type is deprecated; in a future version of numpy, it will be understood as (type, (1,)) / '(1,)type'.\n",
      "  _np_quint16 = np.dtype([(\"quint16\", np.uint16, 1)])\n",
      "C:\\ProgramData\\Anaconda3\\lib\\site-packages\\tensorflow\\python\\framework\\dtypes.py:520: FutureWarning: Passing (type, 1) or '1type' as a synonym of type is deprecated; in a future version of numpy, it will be understood as (type, (1,)) / '(1,)type'.\n",
      "  _np_qint32 = np.dtype([(\"qint32\", np.int32, 1)])\n",
      "C:\\ProgramData\\Anaconda3\\lib\\site-packages\\tensorflow\\python\\framework\\dtypes.py:525: FutureWarning: Passing (type, 1) or '1type' as a synonym of type is deprecated; in a future version of numpy, it will be understood as (type, (1,)) / '(1,)type'.\n",
      "  np_resource = np.dtype([(\"resource\", np.ubyte, 1)])\n",
      "C:\\ProgramData\\Anaconda3\\lib\\site-packages\\tensorboard\\compat\\tensorflow_stub\\dtypes.py:541: FutureWarning: Passing (type, 1) or '1type' as a synonym of type is deprecated; in a future version of numpy, it will be understood as (type, (1,)) / '(1,)type'.\n",
      "  _np_qint8 = np.dtype([(\"qint8\", np.int8, 1)])\n",
      "C:\\ProgramData\\Anaconda3\\lib\\site-packages\\tensorboard\\compat\\tensorflow_stub\\dtypes.py:542: FutureWarning: Passing (type, 1) or '1type' as a synonym of type is deprecated; in a future version of numpy, it will be understood as (type, (1,)) / '(1,)type'.\n",
      "  _np_quint8 = np.dtype([(\"quint8\", np.uint8, 1)])\n",
      "C:\\ProgramData\\Anaconda3\\lib\\site-packages\\tensorboard\\compat\\tensorflow_stub\\dtypes.py:543: FutureWarning: Passing (type, 1) or '1type' as a synonym of type is deprecated; in a future version of numpy, it will be understood as (type, (1,)) / '(1,)type'.\n",
      "  _np_qint16 = np.dtype([(\"qint16\", np.int16, 1)])\n",
      "C:\\ProgramData\\Anaconda3\\lib\\site-packages\\tensorboard\\compat\\tensorflow_stub\\dtypes.py:544: FutureWarning: Passing (type, 1) or '1type' as a synonym of type is deprecated; in a future version of numpy, it will be understood as (type, (1,)) / '(1,)type'.\n",
      "  _np_quint16 = np.dtype([(\"quint16\", np.uint16, 1)])\n",
      "C:\\ProgramData\\Anaconda3\\lib\\site-packages\\tensorboard\\compat\\tensorflow_stub\\dtypes.py:545: FutureWarning: Passing (type, 1) or '1type' as a synonym of type is deprecated; in a future version of numpy, it will be understood as (type, (1,)) / '(1,)type'.\n",
      "  _np_qint32 = np.dtype([(\"qint32\", np.int32, 1)])\n",
      "C:\\ProgramData\\Anaconda3\\lib\\site-packages\\tensorboard\\compat\\tensorflow_stub\\dtypes.py:550: FutureWarning: Passing (type, 1) or '1type' as a synonym of type is deprecated; in a future version of numpy, it will be understood as (type, (1,)) / '(1,)type'.\n",
      "  np_resource = np.dtype([(\"resource\", np.ubyte, 1)])\n"
     ]
    }
   ],
   "source": [
    "import os\n",
    "import pandas as pd\n",
    "import numpy as np\n",
    "from keras.layers import *\n",
    "from keras.models import *\n",
    "from keras.callbacks import *\n",
    "from sklearn.preprocessing import MinMaxScaler\n",
    "import matplotlib.pyplot as plt\n",
    "import math\n",
    "from sklearn.metrics import mean_squared_error"
   ]
  },
  {
   "cell_type": "code",
   "execution_count": 2,
   "metadata": {},
   "outputs": [],
   "source": [
    "look_back = 1\n",
    "def create_dataset(dataset, look_back=1):\n",
    "    dataX, dataY = [], []\n",
    "    for i in range(len(dataset) - look_back-1):\n",
    "        a = dataset[i:(i+look_back)]\n",
    "        dataX.append(a)\n",
    "        dataY.append(dataset[i + look_back])\n",
    "    return np.array(dataX), np.array(dataY)"
   ]
  },
  {
   "cell_type": "code",
   "execution_count": 3,
   "metadata": {},
   "outputs": [],
   "source": [
    "pandf = pd.read_csv(\"naver_stock_data.csv\",sep=',', encoding='euc-kr')"
   ]
  },
  {
   "cell_type": "code",
   "execution_count": 4,
   "metadata": {
    "scrolled": true
   },
   "outputs": [
    {
     "name": "stdout",
     "output_type": "stream",
     "text": [
      "<class 'pandas.core.frame.DataFrame'>\n",
      "RangeIndex: 1198 entries, 0 to 1197\n",
      "Data columns (total 8 columns):\n",
      "날짜        1198 non-null object\n",
      "종가        1198 non-null int64\n",
      "전일비       1198 non-null int64\n",
      "시가        1198 non-null int64\n",
      "고가        1198 non-null int64\n",
      "저가        1198 non-null int64\n",
      "거래량       1198 non-null int64\n",
      "종가 수정가    1198 non-null int64\n",
      "dtypes: int64(7), object(1)\n",
      "memory usage: 75.0+ KB\n"
     ]
    },
    {
     "data": {
      "text/plain": [
       "(1198, 8)"
      ]
     },
     "execution_count": 4,
     "metadata": {},
     "output_type": "execute_result"
    }
   ],
   "source": [
    "pandf.info()\n",
    "pandf.shape"
   ]
  },
  {
   "cell_type": "code",
   "execution_count": 5,
   "metadata": {
    "scrolled": true
   },
   "outputs": [
    {
     "data": {
      "text/plain": [
       "array([146200., 149800., 148600., ..., 180000., 173500., 178500.],\n",
       "      dtype=float32)"
      ]
     },
     "execution_count": 5,
     "metadata": {},
     "output_type": "execute_result"
    }
   ],
   "source": [
    "nparr = pandf['종가 수정가'].values[::-1]\n",
    "nparr.astype('float32')"
   ]
  },
  {
   "cell_type": "code",
   "execution_count": 6,
   "metadata": {},
   "outputs": [
    {
     "name": "stderr",
     "output_type": "stream",
     "text": [
      "C:\\ProgramData\\Anaconda3\\lib\\site-packages\\sklearn\\utils\\validation.py:475: DataConversionWarning: Data with input dtype int64 was converted to float64 by MinMaxScaler.\n",
      "  warnings.warn(msg, DataConversionWarning)\n"
     ]
    }
   ],
   "source": [
    "#normalization\n",
    "scaler = MinMaxScaler(feature_range=(0,1))\n",
    "nptf = scaler.fit_transform(nparr.reshape(-1,1))"
   ]
  },
  {
   "cell_type": "code",
   "execution_count": 7,
   "metadata": {},
   "outputs": [
    {
     "name": "stdout",
     "output_type": "stream",
     "text": [
      "1078 120\n"
     ]
    }
   ],
   "source": [
    "train_size = int(len(nptf)*0.9)\n",
    "test_size = len(nptf) - train_size\n",
    "train, test = nptf[0:train_size], nptf[train_size:len(nptf)]\n",
    "print(len(train), len(test))"
   ]
  },
  {
   "cell_type": "code",
   "execution_count": 8,
   "metadata": {},
   "outputs": [],
   "source": [
    "trainX, trainY = create_dataset(train, look_back)\n",
    "testX, testY = create_dataset(test, look_back)"
   ]
  },
  {
   "cell_type": "code",
   "execution_count": 9,
   "metadata": {},
   "outputs": [],
   "source": [
    "trainX = np.reshape(trainX, (trainX.shape[0], 1, trainX.shape[1]))\n",
    "testX = np.reshape(testX, (testX.shape[0], 1, testX.shape[1]))"
   ]
  },
  {
   "cell_type": "code",
   "execution_count": 14,
   "metadata": {},
   "outputs": [
    {
     "name": "stdout",
     "output_type": "stream",
     "text": [
      "Epoch 1/100\n",
      " - 8s - loss: 0.0941\n",
      "Epoch 2/100\n",
      " - 7s - loss: 0.0636\n",
      "Epoch 3/100\n",
      " - 7s - loss: 0.0721\n",
      "Epoch 4/100\n",
      " - 7s - loss: 0.0580\n",
      "Epoch 5/100\n",
      " - 7s - loss: 0.0641\n",
      "Epoch 6/100\n",
      " - 7s - loss: 0.0621\n",
      "Epoch 7/100\n",
      " - 7s - loss: 0.0628\n",
      "Epoch 8/100\n",
      " - 7s - loss: 0.0585\n",
      "Epoch 9/100\n",
      " - 7s - loss: 0.0637\n",
      "Epoch 10/100\n",
      " - 7s - loss: 0.0519\n",
      "Epoch 11/100\n",
      " - 6s - loss: 0.0654\n",
      "Epoch 12/100\n",
      " - 6s - loss: 0.0567\n",
      "Epoch 13/100\n",
      " - 7s - loss: 0.0602\n",
      "Epoch 14/100\n",
      " - 7s - loss: 0.0600\n",
      "Epoch 15/100\n",
      " - 8s - loss: 0.0590\n",
      "Epoch 16/100\n",
      " - 7s - loss: 0.0598\n",
      "Epoch 17/100\n",
      " - 7s - loss: 0.0586\n",
      "Epoch 18/100\n",
      " - 7s - loss: 0.0626\n",
      "Epoch 19/100\n",
      " - 7s - loss: 0.0628\n",
      "Epoch 20/100\n",
      " - 7s - loss: 0.0621\n",
      "Epoch 21/100\n",
      " - 10s - loss: 0.0566\n",
      "Epoch 22/100\n",
      " - 8s - loss: 0.0673\n",
      "Epoch 23/100\n",
      " - 7s - loss: 0.0561\n",
      "Epoch 24/100\n",
      " - 8s - loss: 0.0593\n",
      "Epoch 25/100\n",
      " - 8s - loss: 0.0578\n",
      "Epoch 26/100\n",
      " - 8s - loss: 0.0575\n",
      "Epoch 27/100\n",
      " - 9s - loss: 0.0645\n",
      "Epoch 28/100\n",
      " - 7s - loss: 0.0612\n",
      "Epoch 29/100\n",
      " - 7s - loss: 0.0593\n",
      "Epoch 30/100\n",
      " - 7s - loss: 0.0586\n",
      "Epoch 31/100\n",
      " - 8s - loss: 0.0600\n",
      "Epoch 32/100\n",
      " - 7s - loss: 0.0575\n",
      "Epoch 33/100\n",
      " - 8s - loss: 0.0605\n",
      "Epoch 34/100\n",
      " - 8s - loss: 0.0628\n",
      "Epoch 35/100\n",
      " - 8s - loss: 0.0594\n",
      "Epoch 36/100\n",
      " - 8s - loss: 0.0637\n",
      "Epoch 37/100\n",
      " - 7s - loss: 0.0696\n",
      "Epoch 38/100\n",
      " - 8s - loss: 0.0568\n",
      "Epoch 39/100\n",
      " - 9s - loss: 0.0612\n",
      "Epoch 40/100\n",
      " - 12s - loss: 0.0598\n",
      "Epoch 41/100\n",
      " - 11s - loss: 0.0669\n",
      "Epoch 42/100\n",
      " - 8s - loss: 0.0642\n",
      "Epoch 43/100\n",
      " - 8s - loss: 0.0561\n",
      "Epoch 44/100\n",
      " - 7s - loss: 0.0542\n",
      "Epoch 45/100\n",
      " - 7s - loss: 0.0538\n",
      "Epoch 46/100\n",
      " - 7s - loss: 0.0644\n",
      "Epoch 47/100\n",
      " - 7s - loss: 0.0535\n",
      "Epoch 48/100\n",
      " - 7s - loss: 0.0555\n",
      "Epoch 49/100\n",
      " - 8s - loss: 0.0584\n",
      "Epoch 50/100\n",
      " - 7s - loss: 0.0622\n",
      "Epoch 51/100\n",
      " - 7s - loss: 0.0610\n",
      "Epoch 52/100\n",
      " - 7s - loss: 0.0649\n",
      "Epoch 53/100\n",
      " - 7s - loss: 0.0638\n",
      "Epoch 54/100\n",
      " - 7s - loss: 0.0643\n",
      "Epoch 55/100\n",
      " - 7s - loss: 0.0637\n",
      "Epoch 56/100\n",
      " - 7s - loss: 0.0597\n",
      "Epoch 57/100\n",
      " - 7s - loss: 0.0582\n",
      "Epoch 58/100\n",
      " - 7s - loss: 0.0559\n",
      "Epoch 59/100\n",
      " - 7s - loss: 0.0644\n",
      "Epoch 60/100\n",
      " - 7s - loss: 0.0599\n",
      "Epoch 61/100\n",
      " - 7s - loss: 0.0632\n",
      "Epoch 62/100\n",
      " - 7s - loss: 0.0612\n",
      "Epoch 63/100\n",
      " - 7s - loss: 0.0527\n",
      "Epoch 64/100\n",
      " - 7s - loss: 0.0640\n",
      "Epoch 65/100\n",
      " - 8s - loss: 0.0627\n",
      "Epoch 66/100\n",
      " - 9s - loss: 0.0620\n",
      "Epoch 67/100\n",
      " - 9s - loss: 0.0650\n",
      "Epoch 68/100\n",
      " - 7s - loss: 0.0561\n",
      "Epoch 69/100\n",
      " - 8s - loss: 0.0592\n",
      "Epoch 70/100\n",
      " - 11s - loss: 0.0539\n",
      "Epoch 71/100\n",
      " - 10s - loss: 0.0631\n",
      "Epoch 72/100\n",
      " - 8s - loss: 0.0646\n",
      "Epoch 73/100\n",
      " - 9s - loss: 0.0618\n",
      "Epoch 74/100\n",
      " - 9s - loss: 0.0597\n",
      "Epoch 75/100\n",
      " - 8s - loss: 0.0581\n",
      "Epoch 76/100\n",
      " - 8s - loss: 0.0604\n",
      "Epoch 77/100\n",
      " - 9s - loss: 0.0587\n",
      "Epoch 78/100\n",
      " - 8s - loss: 0.0576\n",
      "Epoch 79/100\n",
      " - 7s - loss: 0.0598\n",
      "Epoch 80/100\n",
      " - 8s - loss: 0.0689\n",
      "Epoch 81/100\n",
      " - 8s - loss: 0.0654\n",
      "Epoch 82/100\n",
      " - 9s - loss: 0.0538\n",
      "Epoch 83/100\n",
      " - 8s - loss: 0.0532\n",
      "Epoch 84/100\n",
      " - 8s - loss: 0.0701\n",
      "Epoch 85/100\n",
      " - 8s - loss: 0.0580\n",
      "Epoch 86/100\n",
      " - 7s - loss: 0.0571\n",
      "Epoch 87/100\n",
      " - 7s - loss: 0.0588\n",
      "Epoch 88/100\n",
      " - 7s - loss: 0.0642\n",
      "Epoch 89/100\n",
      " - 8s - loss: 0.0622\n",
      "Epoch 90/100\n",
      " - 7s - loss: 0.0552\n",
      "Epoch 91/100\n",
      " - 8s - loss: 0.0635\n",
      "Epoch 92/100\n",
      " - 7s - loss: 0.0626\n",
      "Epoch 93/100\n",
      " - 8s - loss: 0.0635\n",
      "Epoch 94/100\n",
      " - 8s - loss: 0.0592\n",
      "Epoch 95/100\n",
      " - 8s - loss: 0.0612\n",
      "Epoch 96/100\n",
      " - 8s - loss: 0.0620\n",
      "Epoch 97/100\n",
      " - 9s - loss: 0.0556\n",
      "Epoch 98/100\n",
      " - 8s - loss: 0.0654\n",
      "Epoch 99/100\n",
      " - 9s - loss: 0.0591\n",
      "Epoch 100/100\n",
      " - 7s - loss: 0.0629\n"
     ]
    },
    {
     "data": {
      "text/plain": [
       "<keras.callbacks.callbacks.History at 0x1f015a29b00>"
      ]
     },
     "execution_count": 14,
     "metadata": {},
     "output_type": "execute_result"
    }
   ],
   "source": [
    "model = Sequential()\n",
    "model.add(LSTM(4, input_shape=(1, look_back)))\n",
    "model.add(Dense(1))\n",
    "model.add(Dropout(0.20))\n",
    "model.compile(loss='mean_squared_error', optimizer='adam')\n",
    "model.fit(trainX, trainY, epochs=100, batch_size=1, verbose=2)"
   ]
  },
  {
   "cell_type": "code",
   "execution_count": 15,
   "metadata": {},
   "outputs": [
    {
     "name": "stdout",
     "output_type": "stream",
     "text": [
      "Train Score: 11204.19 RMSE\n"
     ]
    }
   ],
   "source": [
    "testPredict = model.predict(testX)\n",
    "testPredict_inverse = scaler.inverse_transform(testPredict)\n",
    "testY_inverse = scaler.inverse_transform(testY)\n",
    "testScore = math.sqrt(mean_squared_error(testY_inverse, testPredict_inverse))\n",
    "print('Train Score: %.2f RMSE' % testScore)"
   ]
  },
  {
   "cell_type": "code",
   "execution_count": 16,
   "metadata": {
    "scrolled": false
   },
   "outputs": [
    {
     "name": "stdout",
     "output_type": "stream",
     "text": [
      "Predict the Close value of final day: 159803\n"
     ]
    }
   ],
   "source": [
    "lastX = nptf[-1]\n",
    "lastX = np.reshape(lastX, (1,1,1))\n",
    "lastY = model.predict(lastX)\n",
    "lastY = scaler.inverse_transform(lastY)\n",
    "print('Predict the Close value of final day: %d' % lastY)"
   ]
  },
  {
   "cell_type": "code",
   "execution_count": 17,
   "metadata": {
    "scrolled": true
   },
   "outputs": [
    {
     "data": {
      "image/png": "[encoded data removed]",
      "text/plain": [
       "<Figure size 432x288 with 1 Axes>"
      ]
     },
     "metadata": {
      "needs_background": "light"
     },
     "output_type": "display_data"
    }
   ],
   "source": [
    "plt.plot(testPredict)\n",
    "plt.plot(testY)\n",
    "plt.show()"
   ]
  },
  {
   "cell_type": "code",
   "execution_count": null,
   "metadata": {},
   "outputs": [],
   "source": []
  }
 ],
 "metadata": {
  "kernelspec": {
   "display_name": "Python 3",
   "language": "python",
   "name": "python3"
  },
  "language_info": {
   "codemirror_mode": {
    "name": "ipython",
    "version": 3
   },
   "file_extension": ".py",
   "mimetype": "text/x-python",
   "name": "python",
   "nbconvert_exporter": "python",
   "pygments_lexer": "ipython3",
   "version": "3.6.9"
  }
 },
 "nbformat": 4,
 "nbformat_minor": 2
}
